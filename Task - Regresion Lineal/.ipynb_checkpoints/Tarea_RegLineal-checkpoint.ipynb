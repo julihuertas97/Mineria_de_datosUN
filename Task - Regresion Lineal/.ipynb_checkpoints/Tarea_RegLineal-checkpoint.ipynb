{
 "cells": [
  {
   "cell_type": "markdown",
   "metadata": {},
   "source": [
    "<h1> <center> <font color='blue'>  Regresion Lineal </font> </center> </h1>\n",
    "    \n",
    "- Juliana M. Huertas M.\n",
    "   \n",
    " "
   ]
  },
  {
   "cell_type": "markdown",
   "metadata": {},
   "source": [
    "<h2> <li> <b> Introducción </b> </h2> </li>"
   ]
  },
  {
   "cell_type": "markdown",
   "metadata": {},
   "source": [
    "El análisis de la regresión lineal se utiliza para predecir el valor de una variable según el valor de otra. La variable que desea predecir se denomina variable dependiente. La variable que está utilizando para predecir el valor de la otra variable se denomina variable independiente.\n",
    "\n",
    "Esta forma de análisis estima los coeficientes de la ecuación lineal, involucrando una o a más variables independientes que mejor predicen el valor de la variable dependiente. La regresión lineal se ajusta a una línea recta o a una superficie que minimiza las discrepancias entre los valores de salida previstos y reales. \n",
    "\n",
    "La regresión lineal se utiliza en todo, desde las ciencias biológicas, conductuales, ambientales y sociales hasta en los negocios. Los modelos de regresión lineal se han convertido en una forma comprobada de predecir el futuro de forma científica y confiable. \n",
    "\n",
    "Una forma general de expresar el modelo es la siguiente:\n",
    "\n",
    "$$\n",
    "Y=\\beta_{0}+\\beta_{1} X_{1}+\\cdots+\\beta_{m} X_{m}+\\varepsilon\n",
    "$$\n",
    "$$\n",
    "=\\beta_{0}+\\sum_{j=1}^{m} \\beta_{j} X_{j}+\\varepsilon\n",
    "$$\n",
    "\n",
    "\n",
    "donde:\n",
    "- $Y$ es la variable dependiente o variable de respuesta.\n",
    "\n",
    "- $X_{1}, X_{2}, \\ldots, X_{n 2}$ son las variables explicativas, independientes o regresoras.\n",
    "\n",
    "- $\\beta_{0}, \\beta_{1}, \\beta_{2}, \\ldots, \\beta_{m}$ son los parámetros del modelo, miden la influencia que las variables explicativas tienen sobre el regrediendo.\n",
    "\n",
    "<img src=\"RegresionLineal.png\">\n",
    "\n",
    "Fuente: [RegresionLinealIBM](https://www.ibm.com/co-es/analytics/learn/linear-regression)"
   ]
  },
  {
   "cell_type": "markdown",
   "metadata": {},
   "source": [
    "<h2> <li> <b> Historia </b> </li> </h2>"
   ]
  },
  {
   "cell_type": "markdown",
   "metadata": {},
   "source": [
    "La primera forma de regresión lineal documentada fue el método de los mínimos cuadrados que fue publicada por Legendre en 1805, Gauss publicó un trabajo en donde desarrollaba de manera más profunda el método de los mínimos cuadrados, y en dónde se incluía una versión del teorema de Gauss-Márkov.\n",
    "\n",
    "El término regresión se utilizó por primera vez en el estudio de variables antropométricas: al comparar la estatura de padres e hijos, donde resultó que los hijos cuyos padres tenían una estatura muy superior al valor medio, tendían a igualarse a este, mientras que aquellos cuyos padres eran muy bajos tendían a reducir su diferencia respecto a la estatura media; es decir, \"regresaban\" al promedio. La constatación empírica de esta propiedad se vio reforzada más tarde con la justificación teórica de ese fenómeno.\n",
    "\n",
    "El término lineal se emplea para distinguirlo del resto de técnicas de regresión, que emplean modelos basados en cualquier clase de función matemática. Los modelos lineales son una explicación simplificada de la realidad, mucho más ágiles y con un soporte teórico mucho más extenso por parte de la matemática y la estadística.\n",
    "\n",
    "Fuente: [RegresionLinealWiki](https://es.wikipedia.org/wiki/Regresi%C3%B3n_lineal)\n",
    "\n",
    "<img src=\"https://upload.wikimedia.org/wikipedia/commons/thumb/d/db/Louis_Legendre.jpg/220px-Louis_Legendre.jpg\" width=\"200\" height=\"400\" />\n"
   ]
  },
  {
   "cell_type": "markdown",
   "metadata": {},
   "source": [
    "<h2> <li> <b> Algoritmo </b> </li> </h2>"
   ]
  },
  {
   "cell_type": "markdown",
   "metadata": {},
   "source": [
    "Computacionalmente, estos cálculos son más eficientes si se realizan de forma matricial:\n",
    "\n",
    "$$\n",
    "\\begin{array}{c}\n",
    "\\mathbf{y}=\\mathbf{X}^{T} \\beta+\\epsilon \\\\\n",
    "\\mathbf{y}=\\left[\\begin{array}{c}\n",
    "y_{1} \\\\\n",
    "y_{2} \\\\\n",
    "\\ldots \\\\\n",
    "y_{n}\n",
    "\\end{array}\\right], \\quad \\mathbf{X}=\\left[\\begin{array}{cccc}\n",
    "1 & x_{11} & \\ldots & x_{1 p} \\\\\n",
    "1 & x_{21} & \\ldots & x_{2 p} \\\\\n",
    "1 & \\ldots & \\ldots & \\ldots \\\\\n",
    "1 & x_{n 1} & \\ldots & x_{n p}\n",
    "\\end{array}\\right], \\quad \\beta=\\left[\\begin{array}{c}\n",
    "\\beta_{0} \\\\\n",
    "\\beta_{1} \\\\\n",
    "\\ldots \\\\\n",
    "\\beta_{n}\n",
    "\\end{array}\\right], \\quad \\epsilon=\\left[\\begin{array}{c}\n",
    "\\epsilon_{1} \\\\\n",
    "\\epsilon_{2} \\\\\n",
    "\\ldots \\\\\n",
    "\\epsilon_{n}\n",
    "\\end{array}\\right] \\\\\n",
    "\\hat{\\beta}=\\underset{\\beta}{\\arg \\min }\\left(\\mathbf{y}-\\mathbf{X}^{T} \\beta\\right)^{2}\n",
    "\\end{array}\n",
    "$$"
   ]
  },
  {
   "cell_type": "markdown",
   "metadata": {},
   "source": [
    "Una vez estimados los coeficientes, se pueden obtener las estimaciones de cada observación $\\left(\\hat{y}_{i}\\right):\n",
    "$\n",
    "\n",
    "$$\n",
    "\\hat{y}_{i}=\\hat{\\beta}_{0}+\\hat{\\beta}_{1} x_{i 1}+\\hat{\\beta}_{2} x_{i 2}+\\ldots+\\hat{\\beta}_{p} x_{i p}\n",
    "$$\n",
    "\n",
    "Finalmente, la estimación de la varianza del modelo $\\left(\\hat{\\sigma}^{2}\\right)$ se obtiene como:\n",
    "\n",
    "$$\n",
    "\\hat{\\sigma}^{2}=\\frac{\\sum_{i=1}^{n} \\hat{\\epsilon}_{i}^{2}}{n-p}=\\frac{\\sum_{i=1}^{n}\\left(y_{i}-\\hat{y}_{i}\\right)^{2}}{n-p}\n",
    "$$\n",
    "\n",
    "donde $n$ es el número de observaciones y $p$ el número de predictores.\n",
    "\n",
    "Fuente:[Algoritmo Regresión](https://www.cienciadedatos.net/documentos/py10-regresion-lineal-python.html)"
   ]
  },
  {
   "cell_type": "markdown",
   "metadata": {},
   "source": [
    "<h2> <li> <b> Aplicación </b> </li> </h2>"
   ]
  },
  {
   "cell_type": "markdown",
   "metadata": {},
   "source": [
    "<h3> <ul> <b> Conjunto de datos </b> </ul> </h3>\n",
    "El conjunto de datos que se utilizó para la implementación de la regresión lineal simple tiene dos variables:\n",
    "\n",
    "<b> Implicito </b>: Precio de un determinado commodity en Colombia\n",
    "\n",
    "<b> Internacional </b>: Precio del mismo commodity pero en mercado internacional\n",
    "\n",
    "El objetivo aquí es observar si precio del commodity en el mercado internacional influye en el precio del commodity en Colombia, y si es así en que sentido lo afecta. "
   ]
  },
  {
   "cell_type": "code",
   "execution_count": 90,
   "metadata": {},
   "outputs": [],
   "source": [
    "#librerias\n",
    "import numpy as np\n",
    "import pandas as pd\n",
    "from sklearn.model_selection import train_test_split\n",
    "from scipy.stats import pearsonr\n",
    "from sklearn.linear_model import LinearRegression\n",
    "from sklearn.model_selection import train_test_split\n",
    "from sklearn.metrics import r2_score\n",
    "from sklearn.metrics import mean_squared_error\n",
    "import statsmodels.api as sm\n",
    "import statsmodels.formula.api as smf"
   ]
  },
  {
   "cell_type": "code",
   "execution_count": 88,
   "metadata": {},
   "outputs": [
    {
     "data": {
      "text/html": [
       "<div>\n",
       "<style scoped>\n",
       "    .dataframe tbody tr th:only-of-type {\n",
       "        vertical-align: middle;\n",
       "    }\n",
       "\n",
       "    .dataframe tbody tr th {\n",
       "        vertical-align: top;\n",
       "    }\n",
       "\n",
       "    .dataframe thead th {\n",
       "        text-align: right;\n",
       "    }\n",
       "</style>\n",
       "<table border=\"1\" class=\"dataframe\">\n",
       "  <thead>\n",
       "    <tr style=\"text-align: right;\">\n",
       "      <th></th>\n",
       "      <th>Implicito</th>\n",
       "      <th>Internacional</th>\n",
       "    </tr>\n",
       "  </thead>\n",
       "  <tbody>\n",
       "    <tr>\n",
       "      <th>0</th>\n",
       "      <td>2.413264</td>\n",
       "      <td>6.929847</td>\n",
       "    </tr>\n",
       "    <tr>\n",
       "      <th>1</th>\n",
       "      <td>2.764594</td>\n",
       "      <td>7.214243</td>\n",
       "    </tr>\n",
       "    <tr>\n",
       "      <th>2</th>\n",
       "      <td>2.520347</td>\n",
       "      <td>6.511281</td>\n",
       "    </tr>\n",
       "    <tr>\n",
       "      <th>3</th>\n",
       "      <td>2.087022</td>\n",
       "      <td>5.778767</td>\n",
       "    </tr>\n",
       "    <tr>\n",
       "      <th>4</th>\n",
       "      <td>2.327417</td>\n",
       "      <td>6.787122</td>\n",
       "    </tr>\n",
       "  </tbody>\n",
       "</table>\n",
       "</div>"
      ],
      "text/plain": [
       "   Implicito  Internacional\n",
       "0   2.413264       6.929847\n",
       "1   2.764594       7.214243\n",
       "2   2.520347       6.511281\n",
       "3   2.087022       5.778767\n",
       "4   2.327417       6.787122"
      ]
     },
     "execution_count": 88,
     "metadata": {},
     "output_type": "execute_result"
    }
   ],
   "source": [
    "df=pd.read_excel(\"Base_Ejemplo.xlsx\")\n",
    "df.head()"
   ]
  },
  {
   "cell_type": "code",
   "execution_count": 61,
   "metadata": {},
   "outputs": [],
   "source": [
    "#VARIABLE INDEPENDIENTE X=INTERNACIONAL\n",
    "X=df.iloc[:,1]\n",
    "#VARIABLE DEPENDIENTE Y=IMPLICITO\n",
    "Y=df.iloc[:,0]"
   ]
  },
  {
   "cell_type": "markdown",
   "metadata": {},
   "source": [
    "<h3> <ul> <b> Implementación </b> </ul> </h3>\n",
    "\n",
    "Para la implementación de la regresión en Python se utiliza  <b>sklearn</b> y <b> stats </b>\n",
    "\n",
    "<h2> Sklearn </h2>"
   ]
  },
  {
   "cell_type": "code",
   "execution_count": 67,
   "metadata": {},
   "outputs": [],
   "source": [
    "from sklearn.linear_model import LinearRegression\n",
    "\n",
    "X_train, X_test, y_train, y_test = train_test_split(X.values.reshape(-1,1),\n",
    "                                                    Y.values.reshape(-1,1),\n",
    "                                                    train_size   = 0.8,\n",
    "                                                    random_state = 1997)"
   ]
  },
  {
   "cell_type": "code",
   "execution_count": 75,
   "metadata": {},
   "outputs": [
    {
     "name": "stdout",
     "output_type": "stream",
     "text": [
      "linear model coeff (w): [[0.33747361]]\n",
      "linear model intercept (b): [-0.16377436]\n",
      "R-squared score (training): 0.924\n",
      "R-squared score (test): 0.884\n"
     ]
    }
   ],
   "source": [
    "linreg = LinearRegression().fit(X_train, y_train)\n",
    "\n",
    "print('linear model coeff (w): {}'\n",
    "     .format(linreg.coef_))\n",
    "print('linear model intercept (b): {}'\n",
    "     .format(linreg.intercept_))\n",
    "print('R-squared score (training): {:.3f}'\n",
    "     .format(linreg.score(X_train, y_train)))\n",
    "print('R-squared score (test): {:.3f}'\n",
    "     .format(linreg.score(X_test, y_test)))"
   ]
  },
  {
   "cell_type": "code",
   "execution_count": 87,
   "metadata": {},
   "outputs": [
    {
     "data": {
      "image/png": "[encoded data removed]",
      "text/plain": [
       "<Figure size 504x432 with 1 Axes>"
      ]
     },
     "metadata": {
      "needs_background": "light"
     },
     "output_type": "display_data"
    }
   ],
   "source": [
    "import matplotlib.pyplot as plt\n",
    "plt.figure(figsize=(7,6))\n",
    "plt.scatter(X, Y, marker= 'o', s=50, alpha=0.7)\n",
    "plt.plot(X.values.reshape(-1,1), linreg.coef_ * X.values.reshape(-1,1) + linreg.intercept_, 'r-')\n",
    "plt.title('Regresión Lineal por mínimos cuadrados')\n",
    "plt.xlabel('Internacional (x)')\n",
    "plt.ylabel('Implicito (y)')\n",
    "plt.show()"
   ]
  },
  {
   "cell_type": "markdown",
   "metadata": {},
   "source": [
    "<h2> Stats </h2>\n",
    "La implementación de regresión lineal de Statsmodels, es más completa que la de Scikitlearn ya que, además de ajustar el modelo, permite calcular los test estadísticos y análisis necesarios para verificar que se cumplen las condiciones sobre las que se basa este tipo de modelos"
   ]
  },
  {
   "cell_type": "code",
   "execution_count": 91,
   "metadata": {},
   "outputs": [
    {
     "name": "stdout",
     "output_type": "stream",
     "text": [
      "                            OLS Regression Results                            \n",
      "==============================================================================\n",
      "Dep. Variable:                      y   R-squared:                       0.924\n",
      "Model:                            OLS   Adj. R-squared:                  0.923\n",
      "Method:                 Least Squares   F-statistic:                     599.4\n",
      "Date:                Fri, 12 Mar 2021   Prob (F-statistic):           3.89e-29\n",
      "Time:                        15:39:45   Log-Likelihood:                -16.723\n",
      "No. Observations:                  51   AIC:                             37.45\n",
      "Df Residuals:                      49   BIC:                             41.31\n",
      "Df Model:                           1                                         \n",
      "Covariance Type:            nonrobust                                         \n",
      "==============================================================================\n",
      "                 coef    std err          t      P>|t|      [0.025      0.975]\n",
      "------------------------------------------------------------------------------\n",
      "const         -0.1638      0.122     -1.348      0.184      -0.408       0.080\n",
      "x1             0.3375      0.014     24.484      0.000       0.310       0.365\n",
      "==============================================================================\n",
      "Omnibus:                       13.022   Durbin-Watson:                   2.108\n",
      "Prob(Omnibus):                  0.001   Jarque-Bera (JB):               16.673\n",
      "Skew:                           0.888   Prob(JB):                     0.000240\n",
      "Kurtosis:                       5.167   Cond. No.                         22.6\n",
      "==============================================================================\n",
      "\n",
      "Warnings:\n",
      "[1] Standard Errors assume that the covariance matrix of the errors is correctly specified.\n"
     ]
    }
   ],
   "source": [
    "X_train = sm.add_constant(X_train, prepend=True)\n",
    "modelo = sm.OLS(endog=y_train, exog=X_train,)\n",
    "modelo = modelo.fit()\n",
    "print(modelo.summary())"
   ]
  },
  {
   "cell_type": "markdown",
   "metadata": {},
   "source": [
    "### Intervalos de confianza"
   ]
  },
  {
   "cell_type": "code",
   "execution_count": 92,
   "metadata": {},
   "outputs": [
    {
     "data": {
      "text/plain": [
       "array([[-0.40800984,  0.08046111],\n",
       "       [ 0.30977437,  0.36517285]])"
      ]
     },
     "execution_count": 92,
     "metadata": {},
     "output_type": "execute_result"
    }
   ],
   "source": [
    "modelo.conf_int(alpha=0.05)"
   ]
  },
  {
   "cell_type": "markdown",
   "metadata": {},
   "source": [
    "### Predicciones"
   ]
  },
  {
   "cell_type": "code",
   "execution_count": 93,
   "metadata": {},
   "outputs": [
    {
     "data": {
      "text/html": [
       "<div>\n",
       "<style scoped>\n",
       "    .dataframe tbody tr th:only-of-type {\n",
       "        vertical-align: middle;\n",
       "    }\n",
       "\n",
       "    .dataframe tbody tr th {\n",
       "        vertical-align: top;\n",
       "    }\n",
       "\n",
       "    .dataframe thead th {\n",
       "        text-align: right;\n",
       "    }\n",
       "</style>\n",
       "<table border=\"1\" class=\"dataframe\">\n",
       "  <thead>\n",
       "    <tr style=\"text-align: right;\">\n",
       "      <th></th>\n",
       "      <th>mean</th>\n",
       "      <th>mean_se</th>\n",
       "      <th>mean_ci_lower</th>\n",
       "      <th>mean_ci_upper</th>\n",
       "      <th>obs_ci_lower</th>\n",
       "      <th>obs_ci_upper</th>\n",
       "    </tr>\n",
       "  </thead>\n",
       "  <tbody>\n",
       "    <tr>\n",
       "      <th>0</th>\n",
       "      <td>3.958250</td>\n",
       "      <td>0.074272</td>\n",
       "      <td>3.808994</td>\n",
       "      <td>4.107506</td>\n",
       "      <td>3.253677</td>\n",
       "      <td>4.662823</td>\n",
       "    </tr>\n",
       "    <tr>\n",
       "      <th>1</th>\n",
       "      <td>2.086891</td>\n",
       "      <td>0.051882</td>\n",
       "      <td>1.982630</td>\n",
       "      <td>2.191152</td>\n",
       "      <td>1.390460</td>\n",
       "      <td>2.783322</td>\n",
       "    </tr>\n",
       "    <tr>\n",
       "      <th>2</th>\n",
       "      <td>2.671028</td>\n",
       "      <td>0.048157</td>\n",
       "      <td>2.574253</td>\n",
       "      <td>2.767804</td>\n",
       "      <td>1.975679</td>\n",
       "      <td>3.366378</td>\n",
       "    </tr>\n",
       "    <tr>\n",
       "      <th>3</th>\n",
       "      <td>1.538203</td>\n",
       "      <td>0.063865</td>\n",
       "      <td>1.409863</td>\n",
       "      <td>1.666544</td>\n",
       "      <td>0.837763</td>\n",
       "      <td>2.238644</td>\n",
       "    </tr>\n",
       "  </tbody>\n",
       "</table>\n",
       "</div>"
      ],
      "text/plain": [
       "       mean   mean_se  mean_ci_lower  mean_ci_upper  obs_ci_lower  \\\n",
       "0  3.958250  0.074272       3.808994       4.107506      3.253677   \n",
       "1  2.086891  0.051882       1.982630       2.191152      1.390460   \n",
       "2  2.671028  0.048157       2.574253       2.767804      1.975679   \n",
       "3  1.538203  0.063865       1.409863       1.666544      0.837763   \n",
       "\n",
       "   obs_ci_upper  \n",
       "0      4.662823  \n",
       "1      2.783322  \n",
       "2      3.366378  \n",
       "3      2.238644  "
      ]
     },
     "execution_count": 93,
     "metadata": {},
     "output_type": "execute_result"
    }
   ],
   "source": [
    "predicciones = modelo.get_prediction(exog = X_train).summary_frame(alpha=0.05)\n",
    "predicciones.head(4)"
   ]
  },
  {
   "cell_type": "code",
   "execution_count": 96,
   "metadata": {},
   "outputs": [
    {
     "data": {
      "image/png": "[encoded data removed]",
      "text/plain": [
       "<Figure size 576x420.48 with 1 Axes>"
      ]
     },
     "metadata": {
      "needs_background": "light"
     },
     "output_type": "display_data"
    }
   ],
   "source": [
    "predicciones = modelo.get_prediction(exog = X_train).summary_frame(alpha=0.05)\n",
    "predicciones['x'] = X_train[:, 1]\n",
    "predicciones['y'] = y_train\n",
    "predicciones = predicciones.sort_values('x')\n",
    "\n",
    "# Gráfico del modelo\n",
    "# ==============================================================================\n",
    "fig, ax = plt.subplots(figsize=(8, 5.84))\n",
    "\n",
    "ax.scatter(predicciones['x'], predicciones['y'], marker='o', color = \"gray\")\n",
    "ax.plot(predicciones['x'], predicciones[\"mean\"], linestyle='-', label=\"OLS\")\n",
    "ax.plot(predicciones['x'], predicciones[\"mean_ci_lower\"], linestyle='--', color='red', label=\"95% CI\")\n",
    "ax.plot(predicciones['x'], predicciones[\"mean_ci_upper\"], linestyle='--', color='red')\n",
    "ax.fill_between(predicciones['x'], predicciones[\"mean_ci_lower\"], predicciones[\"mean_ci_upper\"], alpha=0.1)\n",
    "ax.legend();"
   ]
  },
  {
   "cell_type": "code",
   "execution_count": 95,
   "metadata": {},
   "outputs": [
    {
     "name": "stdout",
     "output_type": "stream",
     "text": [
      "\n",
      "El error (rmse) de test es: 0.25613858358399694\n"
     ]
    }
   ],
   "source": [
    "#Error del test\n",
    "X_test = sm.add_constant(X_test, prepend=True)\n",
    "predicciones = modelo.predict(exog = X_test)\n",
    "rmse = mean_squared_error(\n",
    "        y_true  = y_test,\n",
    "        y_pred  = predicciones,\n",
    "        squared = False\n",
    "       )\n",
    "print(\"\")\n",
    "print(f\"El error (rmse) de test es: {rmse}\")"
   ]
  },
  {
   "cell_type": "markdown",
   "metadata": {},
   "source": [
    "[Explicacion Reg Lineal](https://www.cienciadedatos.net/documentos/py10-regresion-lineal-python.html)"
   ]
  },
  {
   "cell_type": "markdown",
   "metadata": {},
   "source": [
    "<h2> <li> <b> Conclusiones </b> </li> </h2>\n",
    "\n",
    "<li> El modelo lineal sigue la ecuación: $$Implicito= -0.1638 + 0.3375*Internacional$$</li>\n",
    "\n",
    "<li> A partir del modelo de regresión implementado se puede concluir que el precio del commodity en el mercado internacional afecta proporcionalmente al precio en el que se encuentra este commodity en Colombia, por lo cual es importante tener en cuenta a la hora de su adquisición el precio en el que se encuentra en el mercado internacional </li>\n",
    "\n",
    "<li> El valor de R-squared indica que el modelo es capaz de explicar el 92.3% de la variabilidad observada en la variable respuesta. Además, el p-value obtenido en el test F (Prob (F-statistic) = 3.89e-29) indica que sí hay evidencias de que la varianza explicada por el modelo es superior a la esperada por azar</li>\n",
    "\n",
    "<li> En Python se destacan dos librerias para implementar regresiones, <b>sklearn</b> y <b>statsmodels</b> </li>\n",
    "\n",
    "<li> Stats es más conveniente cuando se quiere profundizar en el modelo de regresión ya que genera mayor información sobre este </li>\n",
    "\n",
    "\n"
   ]
  }
 ],
 "metadata": {
  "kernelspec": {
   "display_name": "Python 3",
   "language": "python",
   "name": "python3"
  },
  "language_info": {
   "codemirror_mode": {
    "name": "ipython",
    "version": 3
   },
   "file_extension": ".py",
   "mimetype": "text/x-python",
   "name": "python",
   "nbconvert_exporter": "python",
   "pygments_lexer": "ipython3",
   "version": "3.8.3"
  }
 },
 "nbformat": 4,
 "nbformat_minor": 4
}
